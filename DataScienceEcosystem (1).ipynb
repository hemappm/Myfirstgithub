{
 "cells": [
  {
   "cell_type": "markdown",
   "id": "973bdca0-549e-474a-880e-fa7635b23b6a",
   "metadata": {},
   "source": [
    "# Data Science tools and ecosystem"
   ]
  },
  {
   "cell_type": "markdown",
   "id": "f88ee341-8e01-4e89-a509-b4d948e43b97",
   "metadata": {},
   "source": [
    "## Introduction\n",
    "In this notebook, data science tools and ecosystem are summarized."
   ]
  },
  {
   "cell_type": "markdown",
   "id": "b3cd7fc1-de93-43d5-96a7-8696b97209c6",
   "metadata": {},
   "source": [
    "## Data Science Languages\n",
    "Some of the popular languages that data scientists use are:\n",
    "1. Python\n",
    "2. R\n",
    "3. SQL\n",
    "4. Julia\n",
    "5. Scala"
   ]
  },
  {
   "cell_type": "markdown",
   "id": "cc70df55-d8eb-48c9-a267-2f944c709e63",
   "metadata": {},
   "source": [
    "## Data Science Libraries\n",
    "Some of the commonly used libraries used by data scientist include:\n",
    "1. Numpy\n",
    "2. Pandas\n",
    "3. Matplotlib\n",
    "4. Scikit-learn\n",
    "5. TensorFlow\n"
   ]
  },
  {
   "cell_type": "markdown",
   "id": "be9ec014-007e-4c1e-ab18-13cda896ec3b",
   "metadata": {},
   "source": [
    "## Data Science Tools\n",
    "|    Data Science Tools     |\n",
    "|---------------------------|\n",
    "|   Jupyter Notebook        |\n",
    "|   RStudio                 |\n",
    "|   Apache Zeppelin         |"
   ]
  },
  {
   "cell_type": "markdown",
   "id": "011e161a-3ebd-4b02-a634-dd20933af5dd",
   "metadata": {},
   "source": [
    "### Below are a few examples of evaluating arithmetic expressions in Python.\n",
    " -`3+5` adds two numbers and returns `8`\n",
    " - `10-2` subtracts two numbers and returns `8`\n",
    " - `4*2` multiplies two numbers and returns `8`"
   ]
  },
  {
   "cell_type": "code",
   "execution_count": 1,
   "id": "3489db35-ddc5-4faf-a342-54f6530ea518",
   "metadata": {},
   "outputs": [
    {
     "data": {
      "text/plain": [
       "17"
      ]
     },
     "execution_count": 1,
     "metadata": {},
     "output_type": "execute_result"
    }
   ],
   "source": [
    "# This is a simple arithmetic expression to multiply then add integers\n",
    "(3*4)+5"
   ]
  },
  {
   "cell_type": "code",
   "execution_count": 2,
   "id": "1ec89e74-3539-4499-b1ff-121ffb814f3c",
   "metadata": {},
   "outputs": [
    {
     "name": "stdout",
     "output_type": "stream",
     "text": [
      "200 minutes is equal to 3.3333333333333335 hours\n"
     ]
    }
   ],
   "source": [
    "# This will convert 200 minutes to hours by dividing by 60\n",
    "minutes = 200\n",
    "hours = minutes / 60\n",
    "print(f\"{minutes} minutes is equal to {hours} hours\")"
   ]
  },
  {
   "cell_type": "markdown",
   "id": "ef32dee9-2eff-47cb-b88e-a58794bc9cc0",
   "metadata": {},
   "source": [
    "**Objectives**\n",
    "\n",
    "- List popular languages for data science\n",
    "- Identify commonly used libraries in data science\n",
    "- Understand various data science tools and environments\n",
    "- Demonstrate simple Python arithmetic operations"
   ]
  },
  {
   "cell_type": "markdown",
   "id": "7169eba2-b706-4138-b6de-9df9094d73dc",
   "metadata": {},
   "source": [
    "## Author\n",
    "Hemavathy Rajasekaran"
   ]
  },
  {
   "cell_type": "code",
   "execution_count": null,
   "id": "3d19e584-8328-44ad-bdb2-fbe8ad1c74f9",
   "metadata": {},
   "outputs": [],
   "source": []
  }
 ],
 "metadata": {
  "kernelspec": {
   "display_name": "Python [conda env:base] *",
   "language": "python",
   "name": "conda-base-py"
  },
  "language_info": {
   "codemirror_mode": {
    "name": "ipython",
    "version": 3
   },
   "file_extension": ".py",
   "mimetype": "text/x-python",
   "name": "python",
   "nbconvert_exporter": "python",
   "pygments_lexer": "ipython3",
   "version": "3.12.7"
  }
 },
 "nbformat": 4,
 "nbformat_minor": 5
}
